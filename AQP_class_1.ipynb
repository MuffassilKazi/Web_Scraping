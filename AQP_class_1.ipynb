{
 "cells": [
  {
   "cell_type": "code",
   "execution_count": 2,
   "id": "38caf677",
   "metadata": {},
   "outputs": [],
   "source": [
    "# web:'https://en.tutiempo.net/climate/01-2013/ws-421820.html'"
   ]
  },
  {
   "cell_type": "code",
   "execution_count": 1,
   "id": "dfaab1f6",
   "metadata": {},
   "outputs": [],
   "source": [
    "import requests\n",
    "import os"
   ]
  },
  {
   "cell_type": "code",
   "execution_count": 2,
   "id": "b94f9a51",
   "metadata": {},
   "outputs": [
    {
     "data": {
      "text/plain": [
       "'C:\\\\Users\\\\hp\\\\7.Muffassil_Project\\\\4_Web_Scaping\\\\New'"
      ]
     },
     "execution_count": 2,
     "metadata": {},
     "output_type": "execute_result"
    }
   ],
   "source": [
    "os.getcwd()"
   ]
  },
  {
   "cell_type": "code",
   "execution_count": 3,
   "id": "a09c2479",
   "metadata": {},
   "outputs": [],
   "source": [
    "def retrieve_html(starting_year, ending_year):\n",
    "    for year in range(starting_year,ending_year+1):\n",
    "        for month in range(1,13):\n",
    "            if month<10:\n",
    "                url=f'https://en.tutiempo.net/climate/0{month}-{year}/ws-421820.html'\n",
    "            else:\n",
    "                url=f'https://en.tutiempo.net/climate/{month}-{year}/ws-421820.html'\n",
    "                \n",
    "            data=requests.get(url).text\n",
    "            if not os.path.exists (f'Data/html/{year}'):\n",
    "                os.makedirs(f'Data/html/{year}')\n",
    "            \n",
    "            with open (f'Data/html/{year}/{month}.html','w') as f:\n",
    "                f.write(data)\n",
    "                \n",
    "           \n",
    "    "
   ]
  },
  {
   "cell_type": "code",
   "execution_count": 4,
   "id": "696f701f",
   "metadata": {},
   "outputs": [],
   "source": [
    "retrieve_html(2013,2018)"
   ]
  },
  {
   "cell_type": "code",
   "execution_count": null,
   "id": "3c5b98d5",
   "metadata": {},
   "outputs": [],
   "source": []
  }
 ],
 "metadata": {
  "kernelspec": {
   "display_name": "Python 3 (ipykernel)",
   "language": "python",
   "name": "python3"
  },
  "language_info": {
   "codemirror_mode": {
    "name": "ipython",
    "version": 3
   },
   "file_extension": ".py",
   "mimetype": "text/x-python",
   "name": "python",
   "nbconvert_exporter": "python",
   "pygments_lexer": "ipython3",
   "version": "3.9.12"
  }
 },
 "nbformat": 4,
 "nbformat_minor": 5
}
